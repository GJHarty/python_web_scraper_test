{
 "cells": [
  {
   "cell_type": "code",
   "execution_count": 10,
   "metadata": {},
   "outputs": [
    {
     "name": "stdout",
     "output_type": "stream",
     "text": [
      "{'de-lang', 'menu-settings', 'content', 'wrapper', 'menu-exchange', 'fr-lang', 'kr-lang', 'br-lang', 'top-btn', 'statusBarRight', 'row2 loggedOut', 'bottom', 'container-fluid full', 'statusItem', 'clear', 'ru-lang', 'loader', 'logo', 'copyright', 'th-lang', 'legal', 'nav nav-tabs main', 'language-select', 'es-lang', 'statusBarCenter', 'menu-about', 'nav nav-tabs account', 'menu-search', 'navigation', 'top', 'linkBack', 'modern trade en_US', 'us-lang active'}\n"
     ]
    }
   ],
   "source": [
    "import requests\n",
    "from bs4 import BeautifulSoup\n",
    "\n",
    "URL = 'https://www.pathofexile.com/trade/search/Scourge/'\n",
    "headers = {'User-Agent': 'Mozilla/5.0 (Windows NT 10.0; Win64; x64) AppleWebKit/537.36 (KHTML, like Gecko) Chrome/75.0.3770.100 Safari/537.36'}\n",
    "class_list = set()\n",
    "\n",
    "page = requests.get(URL, headers=headers)\n",
    "\n",
    "soup = BeautifulSoup(page.content, \"html.parser\")\n",
    "\n",
    "tags = {tag.name for tag in soup.find_all()}\n",
    "\n",
    "for tag in tags:\n",
    "    for i in soup.find_all( tag ):\n",
    "        if i.has_attr( \"class\" ):\n",
    "            if len( i['class'] ) != 0:\n",
    "                class_list.add(\" \".join( i['class']))\n",
    "\n",
    "print( class_list )"
   ]
  },
  {
   "cell_type": "code",
   "execution_count": 85,
   "metadata": {},
   "outputs": [],
   "source": [
    "mydivs = soup.find_all(\"div\", class_= \"multiselect__tags\")"
   ]
  },
  {
   "cell_type": "code",
   "execution_count": 86,
   "metadata": {},
   "outputs": [
    {
     "name": "stdout",
     "output_type": "stream",
     "text": [
      "[]\n"
     ]
    }
   ],
   "source": [
    "print(mydivs)"
   ]
  },
  {
   "cell_type": "code",
   "execution_count": 79,
   "metadata": {},
   "outputs": [],
   "source": [
    "tag = BeautifulSoup('<div class=\"search-left\"></div>', 'html.parser')"
   ]
  },
  {
   "cell_type": "code",
   "execution_count": 80,
   "metadata": {},
   "outputs": [
    {
     "name": "stdout",
     "output_type": "stream",
     "text": [
      "<div class=\"search-left\"></div>\n"
     ]
    }
   ],
   "source": [
    "for child in tag.children:\n",
    "    print(child)"
   ]
  },
  {
   "cell_type": "code",
   "execution_count": null,
   "metadata": {},
   "outputs": [],
   "source": []
  },
  {
   "cell_type": "code",
   "execution_count": null,
   "metadata": {},
   "outputs": [],
   "source": []
  }
 ],
 "metadata": {
  "kernelspec": {
   "display_name": "Python 3",
   "language": "python",
   "name": "python3"
  },
  "language_info": {
   "codemirror_mode": {
    "name": "ipython",
    "version": 3
   },
   "file_extension": ".py",
   "mimetype": "text/x-python",
   "name": "python",
   "nbconvert_exporter": "python",
   "pygments_lexer": "ipython3",
   "version": "3.8.3"
  }
 },
 "nbformat": 4,
 "nbformat_minor": 4
}
